{
  "cells": [
    {
      "attachments": {},
      "cell_type": "markdown",
      "source": [
        "# Deploy tune limits pipeline\n"
      ],
      "metadata": {}
    },
    {
      "cell_type": "markdown",
      "source": [
        "# Install requirements"
      ],
      "metadata": {
        "nteract": {
          "transient": {
            "deleting": false
          }
        }
      }
    },
    {
      "cell_type": "code",
      "source": [
        "import sys\n",
        "!{sys.executable} -m pip install python-dotenv"
      ],
      "outputs": [
        {
          "output_type": "stream",
          "name": "stdout",
          "text": "Requirement already satisfied: python-dotenv in /anaconda/envs/azureml_py310_sdkv2/lib/python3.10/site-packages (1.0.0)\r\n"
        }
      ],
      "execution_count": 61,
      "metadata": {
        "jupyter": {
          "source_hidden": false,
          "outputs_hidden": false
        },
        "nteract": {
          "transient": {
            "deleting": false
          }
        },
        "gather": {
          "logged": 1697804846737
        }
      }
    },
    {
      "cell_type": "markdown",
      "source": [
        "### Init workspace"
      ],
      "metadata": {
        "nteract": {
          "transient": {
            "deleting": false
          }
        }
      }
    },
    {
      "cell_type": "code",
      "source": [
        "from dotenv import dotenv_values\n",
        "from azure.ai.ml import MLClient\n",
        "from azure.identity import DefaultAzureCredential\n",
        "import os\n",
        "\n",
        "env_vars = dotenv_values(\"env\")\n",
        "for key, value in env_vars.items():\n",
        "     os.environ[key] = value\n",
        "subscription_id = os.getenv(\"SUBSCRIPTION_ID\")\n",
        "workspace_name = os.getenv(\"WORKSPACE_NAME\")\n",
        "version = os.getenv(\"VERSION\")\n",
        "print(f\"workspace_name={workspace_name}\")\n",
        "print(f\"version={version}\")\n",
        "\n",
        "# authenticate\n",
        "credential = DefaultAzureCredential()\n",
        "\n",
        "# Get a handle to the workspace\n",
        "ml_client = MLClient(\n",
        "    credential=credential,\n",
        "    subscription_id=subscription_id,\n",
        "    resource_group_name=\"DocuBank\",\n",
        "    workspace_name=workspace_name,\n",
        ")\n",
        "cpu_cluster = None"
      ],
      "outputs": [
        {
          "output_type": "stream",
          "name": "stdout",
          "text": "workspace_name=test\nversion=0.0.5\n"
        }
      ],
      "execution_count": 72,
      "metadata": {
        "attributes": {
          "classes": [
            "Python"
          ],
          "id": ""
        },
        "name": "ml_client",
        "gather": {
          "logged": 1697807303966
        }
      }
    },
    {
      "attachments": {},
      "cell_type": "markdown",
      "source": [
        "### Create a compute resource to run your pipeline (Optional)\n"
      ],
      "metadata": {}
    },
    {
      "cell_type": "code",
      "source": [
        "from azure.ai.ml.entities import AmlCompute\n",
        "\n",
        "# Name assigned to the compute cluster\n",
        "cpu_compute_target = \"cpu-cluster-lp\"\n",
        "\n",
        "try:\n",
        "    # let's see if the compute target already exists\n",
        "    cpu_cluster = ml_client.compute.get(cpu_compute_target)\n",
        "    print(\n",
        "        f\"You already have a cluster named {cpu_compute_target}, we'll reuse it as is.\"\n",
        "    )\n",
        "\n",
        "except Exception:\n",
        "    print(\"Creating a new cpu compute target...\")\n",
        "\n",
        "    # Let's create the Azure Machine Learning compute object with the intended parameters\n",
        "    # if you run into an out of quota error, change the size to a comparable VM that is available.\n",
        "    # Learn more on https://azure.microsoft.com/en-us/pricing/details/machine-learning/.\n",
        "    cpu_cluster = AmlCompute(\n",
        "        name=cpu_compute_target,\n",
        "        # Azure Machine Learning Compute is the on-demand VM service\n",
        "        type=\"amlcompute\",\n",
        "        # VM Family\n",
        "        size=\"STANDARD_DS3_V2\",\n",
        "        # Minimum running nodes when there is no job running\n",
        "        min_instances=0,\n",
        "        # Nodes in cluster\n",
        "        max_instances=4,\n",
        "        # How many seconds will the node running after the job termination\n",
        "        idle_time_before_scale_down=600,\n",
        "        # Dedicated or LowPriority. The latter is cheaper but there is a chance of job termination\n",
        "        tier=\"LowPriority\",\n",
        "    )\n",
        "    print(\n",
        "        f\"AMLCompute with name {cpu_cluster.name} will be created, with compute size {cpu_cluster.size}\"\n",
        "    )\n",
        "    # Now, we pass the object to MLClient's create_or_update method\n",
        "    cpu_cluster = ml_client.compute.begin_create_or_update(cpu_cluster)"
      ],
      "outputs": [
        {
          "output_type": "stream",
          "name": "stdout",
          "text": "You already have a cluster named cpu-cluster-lp, we'll reuse it as is.\n"
        }
      ],
      "execution_count": 52,
      "metadata": {
        "name": "cpu_cluster",
        "gather": {
          "logged": 1697804670970
        }
      }
    },
    {
      "attachments": {},
      "cell_type": "markdown",
      "source": [
        "### Set Params"
      ],
      "metadata": {}
    },
    {
      "cell_type": "code",
      "source": [
        "conda_file = \"./conda.yaml\"\n",
        "code_dir = \"./src\"\n",
        "tune_env_name = \"bankmap-tune\"\n",
        "component_name = \"bankmap_tune\"\n",
        "\n",
        "output_path=\"azureml://subscriptions/ae0eff97-7885-4c1e-b23c-d8a627ef292f/resourcegroups/DocuBank/workspaces/test/datastores/configs/paths/\"\n",
        "input_path=\"azureml://subscriptions/ae0eff97-7885-4c1e-b23c-d8a627ef292f/resourcegroups/DocuBank/workspaces/test/datastores/devcopy/paths/\""
      ],
      "outputs": [],
      "execution_count": 73,
      "metadata": {
        "name": "dependencies_dir",
        "gather": {
          "logged": 1697807309038
        }
      }
    },
    {
      "attachments": {},
      "cell_type": "markdown",
      "source": [
        "### Create environment\n"
      ],
      "metadata": {}
    },
    {
      "cell_type": "code",
      "source": [
        "from azure.ai.ml.entities import Environment\n",
        "\n",
        "pipeline_job_env = Environment(\n",
        "    name=tune_env_name,\n",
        "    description=\"Env to run tune function\",\n",
        "    tags={\"bankmap-tune\": version},\n",
        "    conda_file=conda_file,\n",
        "    image=\"mcr.microsoft.com/azureml/openmpi4.1.0-ubuntu20.04:latest\",\n",
        "    version=version,\n",
        ")\n",
        "pipeline_job_env = ml_client.environments.create_or_update(pipeline_job_env)\n",
        "\n",
        "print(\n",
        "    f\"Environment with name {pipeline_job_env.name} is registered to workspace, the environment version is {pipeline_job_env.version}\"\n",
        ")"
      ],
      "outputs": [
        {
          "output_type": "stream",
          "name": "stdout",
          "text": "Environment with name bankmap-tune is registered to workspace, the environment version is 0.0.4\n"
        }
      ],
      "execution_count": 65,
      "metadata": {
        "attributes": {
          "classes": [
            "Python"
          ],
          "id": ""
        },
        "name": "custom_env_name",
        "gather": {
          "logged": 1697805007943
        }
      }
    },
    {
      "attachments": {},
      "cell_type": "markdown",
      "source": [
        "### Create component\n"
      ],
      "metadata": {}
    },
    {
      "cell_type": "code",
      "source": [
        "from azure.ai.ml import command\n",
        "from azure.ai.ml import Input, Output\n",
        "\n",
        "outputs={\"output_path\": Output(type=\"uri_folder\", mode=\"rw_mount\", path=output_path)}\n",
        "print(f\"outputs {outputs}\")\n",
        "print(f\"outputs {outputs['output_path'].path}\")\n",
        "tune_component = command(\n",
        "    name=component_name,\n",
        "    display_name=\"Tune bankmap params for a company\",\n",
        "    description=\"Tune limits for bankmap company\",\n",
        "    inputs={\n",
        "        \"data\":  Input(type=\"uri_file\"),\n",
        "        \"company\": Input(type=\"string\")\n",
        "    },\n",
        "    is_deterministic=False, \n",
        "    outputs=outputs,\n",
        "    # The source folder of the component\n",
        "    code=code_dir,\n",
        "    version=version,\n",
        "    command=\"\"\"python tune.py \\\n",
        "            --company '${{inputs.company}}' \\\n",
        "            --input_file '${{inputs.data}}'\\\n",
        "            --output_path '${{outputs.output_path}}'\\\n",
        "            \"\"\",\n",
        "    environment=f\"{pipeline_job_env.name}:{pipeline_job_env.version}\",\n",
        ")"
      ],
      "outputs": [
        {
          "output_type": "stream",
          "name": "stdout",
          "text": "outputs {'output_path': {'type': 'uri_folder', 'path': 'azureml://subscriptions/ae0eff97-7885-4c1e-b23c-d8a627ef292f/resourcegroups/DocuBank/workspaces/test/datastores/configs/paths/', 'mode': 'rw_mount'}}\noutputs azureml://subscriptions/ae0eff97-7885-4c1e-b23c-d8a627ef292f/resourcegroups/DocuBank/workspaces/test/datastores/configs/paths/\n"
        }
      ],
      "execution_count": 74,
      "metadata": {
        "name": "data_prep_component",
        "gather": {
          "logged": 1697807322447
        }
      }
    },
    {
      "attachments": {},
      "cell_type": "markdown",
      "source": [
        "### Register the component in the workspace for future reuse.\n"
      ],
      "metadata": {
        "nteract": {
          "transient": {
            "deleting": false
          }
        }
      }
    },
    {
      "cell_type": "code",
      "source": [
        "# Now we register the component to the workspace\n",
        "tune_component = ml_client.create_or_update(tune_component.component)\n",
        "\n",
        "# Create (register) the component in your workspace\n",
        "print(\n",
        "    f\"Component {tune_component.name} with Version {tune_component.version} is registered\"\n",
        ")"
      ],
      "outputs": [
        {
          "output_type": "stream",
          "name": "stderr",
          "text": "\r\u001b[32mUploading src (0.0 MBs):   0%|          | 0/3913 [00:00<?, ?it/s]\r\u001b[32mUploading src (0.0 MBs): 100%|██████████| 3913/3913 [00:00<00:00, 41677.83it/s]\n\u001b[39m\n\n"
        },
        {
          "output_type": "stream",
          "name": "stdout",
          "text": "Component bankmap_tune with Version 0.0.5 is registered\n"
        }
      ],
      "execution_count": 75,
      "metadata": {
        "gather": {
          "logged": 1697807333694
        }
      }
    },
    {
      "attachments": {},
      "cell_type": "markdown",
      "source": [
        "### Optional: Test component\n",
        "\n"
      ],
      "metadata": {}
    },
    {
      "cell_type": "code",
      "source": [
        "# the dsl decorator tells the sdk that we are defining an Azure Machine Learning pipeline\n",
        "from azure.ai.ml import dsl, Input, Output\n",
        "\n",
        "tune_component = ml_client.components.get(component_name)\n",
        "print(f'output: {tune_component}')\n",
        "\n",
        "@dsl.pipeline(\n",
        "    compute=cpu_compute_target,\n",
        "    description=\"tune pipeline\"\n",
        ")\n",
        "def tune_pipeline(company, data):\n",
        "    tune_job = tune_component(company=company, data=data)\n",
        "    tune_job.outputs[\"output_path\"] = Output(type=\"uri_folder\", mode=\"rw_mount\", path=output_path)\n",
        "    # a pipeline returns a dictionary of outputs\n",
        "    # keys will code for the pipeline output identifier\n",
        "    print(f'output: {tune_job.outputs[\"output_path\"]}')\n",
        "    return {\n",
        "        \"output_path\": tune_job.outputs.output_path\n",
        "    }"
      ],
      "outputs": [
        {
          "output_type": "stream",
          "name": "stdout",
          "text": "output: name: bankmap_tune\nversion: 0.0.5\ndisplay_name: Tune bankmap params for a company\ndescription: Tune limits for bankmap company\ntype: command\ninputs:\n  data:\n    type: uri_file\n    optional: false\n  company:\n    type: string\n    optional: false\noutputs:\n  output_path:\n    type: uri_folder\ncommand: 'python tune.py             --company ''${{inputs.company}}''             --input_file\n  ''${{inputs.data}}''            --output_path ''${{outputs.output_path}}''            '\nenvironment: azureml:/subscriptions/ae0eff97-7885-4c1e-b23c-d8a627ef292f/resourceGroups/DocuBank/providers/Microsoft.MachineLearningServices/workspaces/test/environments/bankmap-tune/versions/0.0.4\ncode: azureml:/subscriptions/ae0eff97-7885-4c1e-b23c-d8a627ef292f/resourceGroups/DocuBank/providers/Microsoft.MachineLearningServices/workspaces/test/codes/6eb9d8d0-7eca-41f9-b1b5-527f4a660f46/versions/1\nresources:\n  instance_count: 1\ncreation_context:\n  created_at: '2023-10-20T13:08:46.924819+00:00'\n  created_by: \"Airenas Vai\\u010Di\\u016Bnas\"\n  created_by_type: User\n  last_modified_at: '2023-10-20T13:08:47.010640+00:00'\n  last_modified_by: \"Airenas Vai\\u010Di\\u016Bnas\"\n  last_modified_by_type: User\nis_deterministic: false\nid: azureml:/subscriptions/ae0eff97-7885-4c1e-b23c-d8a627ef292f/resourceGroups/DocuBank/providers/Microsoft.MachineLearningServices/workspaces/test/components/bankmap_tune/labels/default\n\n"
        }
      ],
      "execution_count": 76,
      "metadata": {
        "attributes": {
          "classes": [
            "Python"
          ],
          "id": ""
        },
        "name": "pipeline",
        "gather": {
          "logged": 1697807340163
        }
      }
    },
    {
      "attachments": {},
      "cell_type": "markdown",
      "source": [
        "### Run job"
      ],
      "metadata": {}
    },
    {
      "cell_type": "code",
      "source": [
        "# Let's instantiate the pipeline with the parameters of our choice\n",
        "pipeline = tune_pipeline(\n",
        "    company=\"hum\",\n",
        "    data=Input(type=\"uri_file\", path=\"azureml://subscriptions/ae0eff97-7885-4c1e-b23c-d8a627ef292f/resourcegroups/DocuBank/workspaces/test/datastores/devcopy/paths/hum.zip\")\n",
        ")\n",
        "\n",
        "pipeline_job = ml_client.jobs.create_or_update(\n",
        "    pipeline,\n",
        "    experiment_name=\"Tune\",\n",
        ")\n",
        "print(f'output before: {pipeline_job.outputs.output_path.path}')\n",
        "pipeline_job.outputs.output_path = Output(type=\"uri_folder\", mode=\"rw_mount\", path=output_path)\n",
        "print(f'output: {pipeline_job.outputs.output_path.path}')\n",
        "print(f'output: {pipeline_job.name}')"
      ],
      "outputs": [
        {
          "output_type": "stream",
          "name": "stdout",
          "text": "output: ${{parent.jobs.None.outputs.output_path}}\noutput before: azureml://subscriptions/ae0eff97-7885-4c1e-b23c-d8a627ef292f/resourcegroups/DocuBank/workspaces/test/datastores/configs/paths/\noutput: azureml://subscriptions/ae0eff97-7885-4c1e-b23c-d8a627ef292f/resourcegroups/DocuBank/workspaces/test/datastores/configs/paths/\noutput: ashy_shampoo_4cz8kwchtz\n"
        }
      ],
      "execution_count": 77,
      "metadata": {
        "attributes": {
          "classes": [
            "Python"
          ],
          "id": ""
        },
        "name": "registered_model_name",
        "gather": {
          "logged": 1697807349699
        }
      }
    },
    {
      "cell_type": "code",
      "source": [
        "ml_client.jobs.stream(pipeline_job.name)"
      ],
      "outputs": [
        {
          "output_type": "stream",
          "name": "stdout",
          "text": "RunId: frosty_parrot_7gx54mp923\nWeb View: https://ml.azure.com/runs/frosty_parrot_7gx54mp923?wsid=/subscriptions/ae0eff97-7885-4c1e-b23c-d8a627ef292f/resourcegroups/DocuBank/workspaces/test\n\nStreaming logs/azureml/executionlogs.txt\n========================================\n\n[2023-10-20 12:32:32Z] Submitting 1 runs, first five are: 6a6d3b43:d7099b8e-a71c-40da-957e-8702adc4fed7\n"
        }
      ],
      "execution_count": 70,
      "metadata": {
        "jupyter": {
          "source_hidden": false,
          "outputs_hidden": false
        },
        "nteract": {
          "transient": {
            "deleting": false
          }
        },
        "gather": {
          "logged": 1697804514021
        }
      }
    },
    {
      "cell_type": "code",
      "source": [
        "output = ml_client.jobs.download(name=pipeline_job.name, download_path=\"./res\", output_name=\"output_path\")"
      ],
      "outputs": [
        {
          "output_type": "stream",
          "name": "stderr",
          "text": "Downloading artifact azureml://subscriptions/ae0eff97-7885-4c1e-b23c-d8a627ef292f/resourcegroups/DocuBank/workspaces/test/datastores/workspaceblobstore/paths/azureml/fb6d3150-130e-46d2-b563-a9b0ceb73d5a/output_path/ to res/named-outputs/output_path\n"
        }
      ],
      "execution_count": 91,
      "metadata": {
        "jupyter": {
          "source_hidden": false,
          "outputs_hidden": false
        },
        "nteract": {
          "transient": {
            "deleting": false
          }
        },
        "gather": {
          "logged": 1696416511000
        }
      }
    }
  ],
  "metadata": {
    "description": {
      "description": "Create production ML pipelines with Python SDK v2 in a Jupyter notebook"
    },
    "kernel_info": {
      "name": "python310-sdkv2"
    },
    "kernelspec": {
      "name": "python310-sdkv2",
      "language": "python",
      "display_name": "Python 3.10 - SDK v2"
    },
    "language_info": {
      "name": "python",
      "version": "3.10.11",
      "mimetype": "text/x-python",
      "codemirror_mode": {
        "name": "ipython",
        "version": 3
      },
      "pygments_lexer": "ipython3",
      "nbconvert_exporter": "python",
      "file_extension": ".py"
    },
    "nteract": {
      "version": "nteract-front-end@1.0.0"
    },
    "categories": [
      "SDK v2",
      "tutorials",
      "get-started-notebooks"
    ],
    "microsoft": {
      "ms_spell_check": {
        "ms_spell_check_language": "en"
      },
      "host": {
        "AzureML": {
          "notebookHasBeenCompleted": true
        }
      }
    }
  },
  "nbformat": 4,
  "nbformat_minor": 1
}