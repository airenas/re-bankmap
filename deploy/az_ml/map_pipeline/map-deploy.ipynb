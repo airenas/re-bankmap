{
  "cells": [
    {
      "attachments": {},
      "cell_type": "markdown",
      "metadata": {},
      "source": [
        "# Deploy mapping pipeline\n"
      ]
    },
    {
      "cell_type": "markdown",
      "metadata": {
        "nteract": {
          "transient": {
            "deleting": false
          }
        }
      },
      "source": [
        "# Install requirements"
      ]
    },
    {
      "cell_type": "code",
      "execution_count": 61,
      "metadata": {
        "gather": {
          "logged": 1697804846737
        },
        "jupyter": {
          "outputs_hidden": false,
          "source_hidden": false
        },
        "nteract": {
          "transient": {
            "deleting": false
          }
        }
      },
      "outputs": [
        {
          "name": "stdout",
          "output_type": "stream",
          "text": [
            "Requirement already satisfied: python-dotenv in /anaconda/envs/azureml_py310_sdkv2/lib/python3.10/site-packages (1.0.0)\r\n"
          ]
        }
      ],
      "source": [
        "import sys\n",
        "!{sys.executable} -m pip install python-dotenv"
      ]
    },
    {
      "cell_type": "markdown",
      "metadata": {
        "nteract": {
          "transient": {
            "deleting": false
          }
        }
      },
      "source": [
        "### Init workspace"
      ]
    },
    {
      "cell_type": "code",
      "execution_count": 63,
      "metadata": {
        "attributes": {
          "classes": [
            "Python"
          ],
          "id": ""
        },
        "gather": {
          "logged": 1697804985163
        },
        "name": "ml_client"
      },
      "outputs": [
        {
          "name": "stdout",
          "output_type": "stream",
          "text": [
            "workspace_name=test\n",
            "version=0.0.4\n"
          ]
        }
      ],
      "source": [
        "from dotenv import dotenv_values\n",
        "from azure.ai.ml import MLClient\n",
        "from azure.identity import DefaultAzureCredential\n",
        "import os\n",
        "\n",
        "env_vars = dotenv_values(\"env\")\n",
        "for key, value in env_vars.items():\n",
        "     os.environ[key] = value\n",
        "subscription_id = os.getenv(\"SUBSCRIPTION_ID\")\n",
        "workspace_name = os.getenv(\"WORKSPACE_NAME\")\n",
        "version = os.getenv(\"VERSION\")\n",
        "print(f\"workspace_name={workspace_name}\")\n",
        "print(f\"version={version}\")\n",
        "\n",
        "# authenticate\n",
        "credential = DefaultAzureCredential()\n",
        "\n",
        "# Get a handle to the workspace\n",
        "ml_client = MLClient(\n",
        "    credential=credential,\n",
        "    subscription_id=subscription_id,\n",
        "    resource_group_name=\"DocuBank\",\n",
        "    workspace_name=workspace_name,\n",
        ")\n",
        "cpu_cluster = None"
      ]
    },
    {
      "attachments": {},
      "cell_type": "markdown",
      "metadata": {},
      "source": [
        "### Create a compute resource to run your pipeline (Optional)\n"
      ]
    },
    {
      "cell_type": "code",
      "execution_count": 52,
      "metadata": {
        "gather": {
          "logged": 1697804670970
        },
        "name": "cpu_cluster"
      },
      "outputs": [
        {
          "name": "stdout",
          "output_type": "stream",
          "text": [
            "You already have a cluster named cpu-cluster-lp, we'll reuse it as is.\n"
          ]
        }
      ],
      "source": [
        "from azure.ai.ml.entities import AmlCompute\n",
        "\n",
        "# Name assigned to the compute cluster\n",
        "cpu_compute_target = \"cpu-cluster-lp\"\n",
        "\n",
        "try:\n",
        "    # let's see if the compute target already exists\n",
        "    cpu_cluster = ml_client.compute.get(cpu_compute_target)\n",
        "    print(\n",
        "        f\"You already have a cluster named {cpu_compute_target}, we'll reuse it as is.\"\n",
        "    )\n",
        "\n",
        "except Exception:\n",
        "    print(\"Creating a new cpu compute target...\")\n",
        "\n",
        "    # Let's create the Azure Machine Learning compute object with the intended parameters\n",
        "    # if you run into an out of quota error, change the size to a comparable VM that is available.\n",
        "    # Learn more on https://azure.microsoft.com/en-us/pricing/details/machine-learning/.\n",
        "    cpu_cluster = AmlCompute(\n",
        "        name=cpu_compute_target,\n",
        "        # Azure Machine Learning Compute is the on-demand VM service\n",
        "        type=\"amlcompute\",\n",
        "        # VM Family\n",
        "        size=\"STANDARD_DS3_V2\",\n",
        "        # Minimum running nodes when there is no job running\n",
        "        min_instances=0,\n",
        "        # Nodes in cluster\n",
        "        max_instances=4,\n",
        "        # How many seconds will the node running after the job termination\n",
        "        idle_time_before_scale_down=600,\n",
        "        # Dedicated or LowPriority. The latter is cheaper but there is a chance of job termination\n",
        "        tier=\"LowPriority\",\n",
        "    )\n",
        "    print(\n",
        "        f\"AMLCompute with name {cpu_cluster.name} will be created, with compute size {cpu_cluster.size}\"\n",
        "    )\n",
        "    # Now, we pass the object to MLClient's create_or_update method\n",
        "    cpu_cluster = ml_client.compute.begin_create_or_update(cpu_cluster)"
      ]
    },
    {
      "attachments": {},
      "cell_type": "markdown",
      "metadata": {},
      "source": [
        "### Set Params"
      ]
    },
    {
      "cell_type": "code",
      "execution_count": 64,
      "metadata": {
        "gather": {
          "logged": 1697804993834
        },
        "name": "dependencies_dir"
      },
      "outputs": [],
      "source": [
        "conda_file = \"./conda.yaml\"\n",
        "code_dir = \"./src\"\n",
        "env_name = \"bankmap\"\n",
        "component_name = \"bankmap\"\n",
        "\n",
        "config_path=\"azureml://subscriptions/ae0eff97-7885-4c1e-b23c-d8a627ef292f/resourcegroups/DocuBank/workspaces/test/datastores/configs/paths/\"\n",
        "input_path=\"azureml://subscriptions/ae0eff97-7885-4c1e-b23c-d8a627ef292f/resourcegroups/DocuBank/workspaces/test/datastores/input/paths/\""
      ]
    },
    {
      "attachments": {},
      "cell_type": "markdown",
      "metadata": {},
      "source": [
        "### Create environment\n"
      ]
    },
    {
      "cell_type": "code",
      "execution_count": 65,
      "metadata": {
        "attributes": {
          "classes": [
            "Python"
          ],
          "id": ""
        },
        "gather": {
          "logged": 1697805007943
        },
        "name": "custom_env_name"
      },
      "outputs": [
        {
          "name": "stdout",
          "output_type": "stream",
          "text": [
            "Environment with name bankmap-tune is registered to workspace, the environment version is 0.0.4\n"
          ]
        }
      ],
      "source": [
        "from azure.ai.ml.entities import Environment\n",
        "\n",
        "pipeline_job_env = Environment(\n",
        "    name=env_name,\n",
        "    description=\"Env to run map pipeline\",\n",
        "    tags={\"bankmap\": version},\n",
        "    conda_file=conda_file,\n",
        "    image=\"mcr.microsoft.com/azureml/openmpi4.1.0-ubuntu20.04:latest\",\n",
        "    version=version,\n",
        ")\n",
        "pipeline_job_env = ml_client.environments.create_or_update(pipeline_job_env)\n",
        "\n",
        "print(\n",
        "    f\"Environment with name {pipeline_job_env.name} is registered to workspace, the environment version is {pipeline_job_env.version}\"\n",
        ")"
      ]
    },
    {
      "attachments": {},
      "cell_type": "markdown",
      "metadata": {},
      "source": [
        "### Create component\n"
      ]
    },
    {
      "cell_type": "code",
      "execution_count": 66,
      "metadata": {
        "gather": {
          "logged": 1697805107837
        },
        "name": "data_prep_component"
      },
      "outputs": [
        {
          "name": "stdout",
          "output_type": "stream",
          "text": [
            "outputs {'output_path': {'type': 'uri_folder', 'path': 'azureml://subscriptions/ae0eff97-7885-4c1e-b23c-d8a627ef292f/resourcegroups/DocuBank/workspaces/test/datastores/configs/paths/', 'mode': 'rw_mount'}}\n",
            "outputs azureml://subscriptions/ae0eff97-7885-4c1e-b23c-d8a627ef292f/resourcegroups/DocuBank/workspaces/test/datastores/configs/paths/\n"
          ]
        }
      ],
      "source": [
        "from azure.ai.ml import command\n",
        "from azure.ai.ml import Input, Output\n",
        "\n",
        "outputs={\"output\": Output(type=\"uri_file\", mode=\"rw_mount\")}\n",
        "component = command(\n",
        "    name=component_name,\n",
        "    display_name=\"Tune bankmap params for a company\",\n",
        "    description=\"Tune limits for bankmap company\",\n",
        "    inputs={\n",
        "        \"data\":  Input(type=\"uri_file\"),\n",
        "        \"config_path\":  Input(type=\"uri_folder\"),\n",
        "        \"company\": Input(type=\"string\")\n",
        "    },\n",
        "    is_deterministic=True, \n",
        "    outputs=outputs,\n",
        "    # The source folder of the component\n",
        "    code=code_dir,\n",
        "    version=version,\n",
        "    command=\"\"\"python map.py \\\n",
        "            --company '${{inputs.company}}' \\\n",
        "            --input_file '${{inputs.data}}'\\\n",
        "            --config_path '${{inputs.config_path}}'\\\n",
        "            --output '${{outputs.output}}'\\\n",
        "            \"\"\",\n",
        "    environment=f\"{pipeline_job_env.name}:{pipeline_job_env.version}\",\n",
        ")"
      ]
    },
    {
      "attachments": {},
      "cell_type": "markdown",
      "metadata": {
        "nteract": {
          "transient": {
            "deleting": false
          }
        }
      },
      "source": [
        "### Register the component in the workspace for future reuse.\n"
      ]
    },
    {
      "cell_type": "code",
      "execution_count": 67,
      "metadata": {
        "gather": {
          "logged": 1697805126841
        }
      },
      "outputs": [
        {
          "name": "stderr",
          "output_type": "stream",
          "text": [
            "\u001b[32mUploading src (0.0 MBs): 100%|██████████| 3904/3904 [00:00<00:00, 47241.08it/s]\n",
            "\u001b[39m\n",
            "\n"
          ]
        },
        {
          "name": "stdout",
          "output_type": "stream",
          "text": [
            "Component bankmap_tune with Version 0.0.4 is registered\n"
          ]
        }
      ],
      "source": [
        "# Now we register the component to the workspace\n",
        "component = ml_client.create_or_update(component.component)\n",
        "\n",
        "# Create (register) the component in your workspace\n",
        "print(f\"Component {component.name} with Version {component.version} is registered\")"
      ]
    },
    {
      "attachments": {},
      "cell_type": "markdown",
      "metadata": {},
      "source": [
        "### Optional: Test component\n",
        "\n"
      ]
    },
    {
      "cell_type": "code",
      "execution_count": 68,
      "metadata": {
        "attributes": {
          "classes": [
            "Python"
          ],
          "id": ""
        },
        "gather": {
          "logged": 1697805147258
        },
        "name": "pipeline"
      },
      "outputs": [
        {
          "name": "stdout",
          "output_type": "stream",
          "text": [
            "output: name: bankmap_tune\n",
            "version: 0.0.4\n",
            "display_name: Tune bankmap params for a company\n",
            "description: Tune limits for bankmap company\n",
            "type: command\n",
            "inputs:\n",
            "  data:\n",
            "    type: uri_file\n",
            "    optional: false\n",
            "  company:\n",
            "    type: string\n",
            "    optional: false\n",
            "outputs:\n",
            "  output_path:\n",
            "    type: uri_folder\n",
            "command: 'python tune.py             --company ''${{inputs.company}}''             --input_file\n",
            "  ''${{inputs.data}}''            --output_path ''${{outputs.output_path}}''            '\n",
            "environment: azureml:/subscriptions/ae0eff97-7885-4c1e-b23c-d8a627ef292f/resourceGroups/DocuBank/providers/Microsoft.MachineLearningServices/workspaces/test/environments/bankmap-tune/versions/0.0.4\n",
            "code: azureml:/subscriptions/ae0eff97-7885-4c1e-b23c-d8a627ef292f/resourceGroups/DocuBank/providers/Microsoft.MachineLearningServices/workspaces/test/codes/4bf6f5c3-8ac8-4170-91de-08bd6b6d646e/versions/1\n",
            "resources:\n",
            "  instance_count: 1\n",
            "creation_context:\n",
            "  created_at: '2023-10-20T12:32:00.321476+00:00'\n",
            "  created_by: \"Airenas Vai\\u010Di\\u016Bnas\"\n",
            "  created_by_type: User\n",
            "  last_modified_at: '2023-10-20T12:32:00.399641+00:00'\n",
            "  last_modified_by: \"Airenas Vai\\u010Di\\u016Bnas\"\n",
            "  last_modified_by_type: User\n",
            "is_deterministic: false\n",
            "id: azureml:/subscriptions/ae0eff97-7885-4c1e-b23c-d8a627ef292f/resourceGroups/DocuBank/providers/Microsoft.MachineLearningServices/workspaces/test/components/bankmap_tune/labels/default\n",
            "\n"
          ]
        }
      ],
      "source": [
        "# the dsl decorator tells the sdk that we are defining an Azure Machine Learning pipeline\n",
        "from azure.ai.ml import dsl, Input, Output\n",
        "\n",
        "tune_component = ml_client.components.get(component_name)\n",
        "print(f'output: {tune_component}')\n",
        "\n",
        "@dsl.pipeline(\n",
        "    compute=cpu_compute_target,\n",
        "    description=\"tune pipeline\"\n",
        ")\n",
        "def tune_pipeline(company, data, config_path):\n",
        "    job = tune_component(company=company, data=data, config_path=config_path)\n",
        "    # job.outputs[\"output_path\"] = Output(type=\"uri_folder\", mode=\"rw_mount\", path=output_path)\n",
        "    print(f'output: {job.outputs[\"output\"]}')\n",
        "    return {\n",
        "        \"output\": job.outputs.output\n",
        "    }"
      ]
    },
    {
      "attachments": {},
      "cell_type": "markdown",
      "metadata": {},
      "source": [
        "### Run job"
      ]
    },
    {
      "cell_type": "code",
      "execution_count": 69,
      "metadata": {
        "attributes": {
          "classes": [
            "Python"
          ],
          "id": ""
        },
        "gather": {
          "logged": 1697805158232
        },
        "name": "registered_model_name"
      },
      "outputs": [
        {
          "name": "stdout",
          "output_type": "stream",
          "text": [
            "output: ${{parent.jobs.None.outputs.output_path}}\n",
            "output before: azureml://subscriptions/ae0eff97-7885-4c1e-b23c-d8a627ef292f/resourcegroups/DocuBank/workspaces/test/datastores/configs/paths/\n",
            "output: azureml://subscriptions/ae0eff97-7885-4c1e-b23c-d8a627ef292f/resourcegroups/DocuBank/workspaces/test/datastores/configs/paths/\n",
            "output: frosty_parrot_7gx54mp923\n"
          ]
        }
      ],
      "source": [
        "# Let's instantiate the pipeline with the parameters of our choice\n",
        "pipeline = tune_pipeline(\n",
        "    company=\"hum\",\n",
        "    data=Input(type=\"uri_file\", path=\"azureml://subscriptions/ae0eff97-7885-4c1e-b23c-d8a627ef292f/resourcegroups/DocuBank/workspaces/test/datastores/devcopy/paths/hum.zip\")\n",
        "    config_path=Input(type=\"uri_folder\", path=config_path)\n",
        ")\n",
        "\n",
        "pipeline_job = ml_client.jobs.create_or_update(\n",
        "    pipeline,\n",
        "    experiment_name=\"Map for test\",\n",
        ")\n",
        "print(f'output before: {pipeline_job.outputs.output_path.path}')\n",
        "# pipeline_job.outputs.output_path = Output(type=\"uri_folder\", mode=\"rw_mount\", path=output_path)\n",
        "print(f'output: {pipeline_job.outputs.output.path}')\n",
        "print(f'output: {pipeline_job.name}')"
      ]
    },
    {
      "cell_type": "code",
      "execution_count": 70,
      "metadata": {
        "gather": {
          "logged": 1697804514021
        },
        "jupyter": {
          "outputs_hidden": false,
          "source_hidden": false
        },
        "nteract": {
          "transient": {
            "deleting": false
          }
        }
      },
      "outputs": [
        {
          "name": "stdout",
          "output_type": "stream",
          "text": [
            "RunId: frosty_parrot_7gx54mp923\n",
            "Web View: https://ml.azure.com/runs/frosty_parrot_7gx54mp923?wsid=/subscriptions/ae0eff97-7885-4c1e-b23c-d8a627ef292f/resourcegroups/DocuBank/workspaces/test\n",
            "\n",
            "Streaming logs/azureml/executionlogs.txt\n",
            "========================================\n",
            "\n",
            "[2023-10-20 12:32:32Z] Submitting 1 runs, first five are: 6a6d3b43:d7099b8e-a71c-40da-957e-8702adc4fed7\n"
          ]
        }
      ],
      "source": [
        "ml_client.jobs.stream(pipeline_job.name)"
      ]
    },
    {
      "cell_type": "code",
      "execution_count": 91,
      "metadata": {
        "gather": {
          "logged": 1696416511000
        },
        "jupyter": {
          "outputs_hidden": false,
          "source_hidden": false
        },
        "nteract": {
          "transient": {
            "deleting": false
          }
        }
      },
      "outputs": [
        {
          "name": "stderr",
          "output_type": "stream",
          "text": [
            "Downloading artifact azureml://subscriptions/ae0eff97-7885-4c1e-b23c-d8a627ef292f/resourcegroups/DocuBank/workspaces/test/datastores/workspaceblobstore/paths/azureml/fb6d3150-130e-46d2-b563-a9b0ceb73d5a/output_path/ to res/named-outputs/output_path\n"
          ]
        }
      ],
      "source": [
        "output = ml_client.jobs.download(name=pipeline_job.name, download_path=\"./res\", output_name=\"output\")"
      ]
    }
  ],
  "metadata": {
    "categories": [
      "SDK v2",
      "tutorials",
      "get-started-notebooks"
    ],
    "description": {
      "description": "Create production ML pipelines with Python SDK v2 in a Jupyter notebook"
    },
    "kernel_info": {
      "name": "python310-sdkv2"
    },
    "kernelspec": {
      "display_name": "Python 3.10 - SDK v2",
      "language": "python",
      "name": "python310-sdkv2"
    },
    "language_info": {
      "codemirror_mode": {
        "name": "ipython",
        "version": 3
      },
      "file_extension": ".py",
      "mimetype": "text/x-python",
      "name": "python",
      "nbconvert_exporter": "python",
      "pygments_lexer": "ipython3",
      "version": "3.10.11"
    },
    "microsoft": {
      "host": {
        "AzureML": {
          "notebookHasBeenCompleted": true
        }
      },
      "ms_spell_check": {
        "ms_spell_check_language": "en"
      }
    },
    "nteract": {
      "version": "nteract-front-end@1.0.0"
    }
  },
  "nbformat": 4,
  "nbformat_minor": 1
}
